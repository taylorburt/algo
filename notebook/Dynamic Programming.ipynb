{
 "cells": [
  {
   "cell_type": "markdown",
   "id": "b99f5b8a",
   "metadata": {},
   "source": [
    "Write a function fib(n) that takes an n sequence and calculate the nth number in the sequence.\n",
    "\n",
    "The 1st and 2nd number of the sequence is 1.\n",
    "To generate the next number, we sum the previous 2."
   ]
  },
  {
   "cell_type": "code",
   "execution_count": 3,
   "id": "6e61ce21",
   "metadata": {},
   "outputs": [
    {
     "data": {
      "text/plain": [
       "13"
      ]
     },
     "execution_count": 3,
     "metadata": {},
     "output_type": "execute_result"
    }
   ],
   "source": [
    "# recursion\n",
    "\n",
    "def fib(n):\n",
    "    if n <= 2:\n",
    "        return 1\n",
    "    return fib(n-1) + fib(n-2)\n",
    "    \n",
    "fib(7)"
   ]
  },
  {
   "cell_type": "code",
   "execution_count": null,
   "id": "1dcdf162",
   "metadata": {},
   "outputs": [],
   "source": []
  }
 ],
 "metadata": {
  "kernelspec": {
   "display_name": "pyenvDefault",
   "language": "python",
   "name": "pyenvdefault"
  },
  "language_info": {
   "codemirror_mode": {
    "name": "ipython",
    "version": 3
   },
   "file_extension": ".py",
   "mimetype": "text/x-python",
   "name": "python",
   "nbconvert_exporter": "python",
   "pygments_lexer": "ipython3",
   "version": "3.8.7"
  }
 },
 "nbformat": 4,
 "nbformat_minor": 5
}
